{
 "cells": [
  {
   "cell_type": "code",
   "execution_count": 1,
   "metadata": {},
   "outputs": [
    {
     "name": "stderr",
     "output_type": "stream",
     "text": [
      "/tmp/ipykernel_15514/2236454491.py:6: TqdmExperimentalWarning: Using `tqdm.autonotebook.tqdm` in notebook mode. Use `tqdm.tqdm` instead to force console mode (e.g. in jupyter console)\n",
      "  from tqdm.autonotebook import tqdm\n"
     ]
    }
   ],
   "source": [
    "import torch\n",
    "import torchvision\n",
    "import torch.nn as nn\n",
    "import matplotlib.pyplot as plt\n",
    "import torch.nn.functional as F\n",
    "from tqdm.autonotebook import tqdm\n",
    "from torch.utils.data import DataLoader\n",
    "import torchvision.transforms as transforms"
   ]
  },
  {
   "cell_type": "code",
   "execution_count": 2,
   "metadata": {},
   "outputs": [],
   "source": [
    "transform = transforms.Compose([\n",
    "    transforms.ToTensor()\n",
    "])\n",
    "\n",
    "device = torch.device(\"cuda\" if torch.cuda.is_available() else \"cpu\")\n",
    "\n",
    "train_dataset = torchvision.datasets.MNIST(root='./data', train=True,  download=True, transform=transform)\n",
    "test_dataset  = torchvision.datasets.MNIST(root='./data', train=False, download=True, transform=transform)\n",
    "\n",
    "train_loader = DataLoader(train_dataset, batch_size=128, shuffle=True)\n",
    "test_loader  = DataLoader(test_dataset,  batch_size=128, shuffle=False)"
   ]
  },
  {
   "cell_type": "code",
   "execution_count": null,
   "metadata": {},
   "outputs": [
    {
     "data": {
      "text/plain": [
       "468065"
      ]
     },
     "execution_count": 3,
     "metadata": {},
     "output_type": "execute_result"
    }
   ],
   "source": [
    "class AdaIN(nn.Module):\n",
    "    def __init__(self, style_dim, num_features):\n",
    "        super().__init__()\n",
    "        self.norm = nn.InstanceNorm2d(num_features)\n",
    "        self.fc = nn.Linear(style_dim, num_features*2)\n",
    "\n",
    "    def forward(self, x, style):\n",
    "        h = self.fc(style)                          # (B, D) -> (B, C*2)\n",
    "        gamma, beta = h.chunk(2, dim=1)             # (B, C), (B, C)\n",
    "\n",
    "        gamma = gamma.unsqueeze(-1).unsqueeze(-1)   # (B, C, 1, 1)\n",
    "        beta = beta.unsqueeze(-1).unsqueeze(-1)     # (B, C, 1, 1)\n",
    "\n",
    "        out = self.norm(x)\n",
    "        out = gamma * out + beta\n",
    "        return out\n",
    "\n",
    "\n",
    "class EncoderBlock(nn.Module):\n",
    "    def __init__(self, in_channels, out_channels, style_dim, dropout):\n",
    "        super().__init__()\n",
    "        self.conv = nn.Conv2d(in_channels, out_channels, 3, stride=1, padding=1)\n",
    "        self.GELU = nn.GELU()\n",
    "        self.dropout = nn.Dropout(dropout)\n",
    "\n",
    "    def forward(self, x, style):\n",
    "        x = self.conv(x)            # Préserve la taille de l'image\n",
    "        x = self.GELU(x)\n",
    "        x = self.dropout(x)\n",
    "        return x\n",
    "\n",
    "\n",
    "class Encoder(nn.Module):\n",
    "    def __init__(self, in_channels, style_dim, dropout):\n",
    "        super().__init__()\n",
    "        self.block1 = EncoderBlock(in_channels, 32, style_dim, dropout)\n",
    "        self.block2 = EncoderBlock(32, 64, style_dim, dropout)\n",
    "        self.pool = nn.MaxPool2d(2)\n",
    "\n",
    "    def forward(self, x, style):\n",
    "        x = self.block1(x, style)   # (B, 1, 28, 28) -> (B, 32, 28, 28)\n",
    "        x = self.pool(x)            # (B, 32, 28, 28) -> (B, 32, 14, 14)\n",
    "        x = self.block2(x, style)   # (B, 32, 14, 14) -> (B, 64, 14, 14)\n",
    "        x = self.pool(x)            # (B, 64, 7, 7) -> (B, 64, 7, 7)\n",
    "        return x\n",
    "\n",
    "\n",
    "class DecoderBlock(nn.Module):\n",
    "    def __init__(self, in_channels, out_channels, style_dim, dropout):\n",
    "        super().__init__()\n",
    "        self.conv = nn.ConvTranspose2d(in_channels, out_channels, 4, stride=2, padding=1)\n",
    "        self.GELU = nn.GELU()\n",
    "        self.adain = AdaIN(style_dim, out_channels)\n",
    "        self.dropout = nn.Dropout(dropout)\n",
    "\n",
    "    def forward(self, x, style):\n",
    "        x = self.conv(x)            # Double la taille de l'image\n",
    "        x = self.GELU(x)\n",
    "        x = self.adain(x, style)\n",
    "        x = self.dropout(x)\n",
    "        return x\n",
    "\n",
    "\n",
    "class Decoder(nn.Module):\n",
    "    def __init__(self, out_channels, style_dim, dropout):\n",
    "        super().__init__()\n",
    "        self.block1 = DecoderBlock(64, 32, style_dim, dropout)\n",
    "        self.block2 = DecoderBlock(32, 16, style_dim, dropout)\n",
    "        self.conv = nn.ConvTranspose2d(16, out_channels, 3, stride=1, padding=1)\n",
    "\n",
    "    def forward(self, x, style):\n",
    "        x = self.block1(x, style)   # (B, 64, 7, 7) -> (B, 32, 14, 14)\n",
    "        x = self.block2(x, style)   # (B, 32, 14, 14) -> (B, 16, 28, 28)\n",
    "        x = self.conv(x)            # (B, 16, 28, 28) -> (B, 1, 28, 28)\n",
    "        return x\n",
    "\n",
    "\n",
    "class CVAEGenerator(nn.Module):\n",
    "    \"\"\"Générateur (cVAE) = Encodeur + Décodeur conditionnel.\"\"\"\n",
    "    def __init__(self, latent_dim=32, label_embed_dim=32, num_classes=10, dropout=0.1):\n",
    "        super().__init__()\n",
    "        self.latent_dim = latent_dim\n",
    "        self.label_embed_dim = label_embed_dim\n",
    "        self.num_classes = num_classes\n",
    "\n",
    "        self.label_embedding = nn.Embedding(num_classes, label_embed_dim)\n",
    "\n",
    "        # Encodeur\n",
    "        self.encoder = Encoder(1, label_embed_dim, dropout=dropout)\n",
    "        self.encoder_projection_mu = nn.Linear(64*7*7, latent_dim)\n",
    "        self.encoder_projection_logvar = nn.Linear(64*7*7, latent_dim)\n",
    "        self.flatten = nn.Flatten()\n",
    "\n",
    "        # Décodeur\n",
    "        self.decoder_projection = nn.Linear(latent_dim + label_embed_dim, 64*7*7)\n",
    "        self.decoder = Decoder(1, label_embed_dim, dropout=dropout)\n",
    "        self.sigmoid = nn.Sigmoid()\n",
    "\n",
    "    def encode(self, x, label):\n",
    "        label_embed = self.label_embedding(label)\n",
    "        x = self.encoder(x, label_embed)\n",
    "        x = self.flatten(x)\n",
    "\n",
    "        mu = self.encoder_projection_mu(x)\n",
    "        logvar = self.encoder_projection_logvar(x)\n",
    "        return mu, logvar\n",
    "\n",
    "    def reparameterize(self, mu, logvar):\n",
    "        std = torch.exp(0.5*logvar)\n",
    "        eps = torch.randn_like(std)\n",
    "        return mu + eps * std\n",
    "\n",
    "    def decode(self, z, label):\n",
    "        label_embed = self.label_embedding(label)\n",
    "        x = torch.cat([z, label_embed], dim=1)\n",
    "        x = self.decoder_projection(x)\n",
    "        x = x.view(-1, 64, 7, 7)\n",
    "\n",
    "        x = self.decoder(x, label_embed)\n",
    "        return self.sigmoid(x)\n",
    "\n",
    "    def forward(self, x, label):\n",
    "        mu, logvar = self.encode(x, label)\n",
    "        z = self.reparameterize(mu, logvar)\n",
    "        return self.decode(z, label), mu, logvar\n",
    "\n",
    "\n",
    "generator = CVAEGenerator(latent_dim=32, label_embed_dim=32, num_classes=10, dropout=0.1).to(device)\n",
    "sum(p.numel() for p in generator.parameters() if p.requires_grad)"
   ]
  },
  {
   "cell_type": "code",
   "execution_count": 4,
   "metadata": {},
   "outputs": [
    {
     "data": {
      "text/plain": [
       "43169"
      ]
     },
     "execution_count": 4,
     "metadata": {},
     "output_type": "execute_result"
    }
   ],
   "source": [
    "class ConditionalDiscriminator(nn.Module):\n",
    "\tdef __init__(self, in_channels=1, label_embed_dim=32, dropout=0.1):\n",
    "\t\tsuper().__init__()\n",
    "\t\tself.label_embedding = nn.Embedding(10, label_embed_dim)\n",
    "\t\tself.conv1 = nn.Conv2d(in_channels, 32, 4, stride=2, padding=1)\n",
    "\t\tself.conv2 = nn.Conv2d(32, 64, 4, stride=2, padding=1)\n",
    "\t\tself.adain1 = AdaIN(label_embed_dim, 32)\n",
    "\t\tself.adain2 = AdaIN(label_embed_dim, 64)\n",
    "\t\tself.fc = nn.Linear(64*7*7, 1)\n",
    "\t\t\n",
    "\t\tself.flatten = nn.Flatten()\n",
    "\t\tself.GELU = nn.GELU()\n",
    "\t\tself.dropout = nn.Dropout(dropout)\n",
    "\n",
    "\tdef extract_features(self, x, label):\n",
    "\t\tlabel_embed = self.label_embedding(label)\n",
    "\t\tx = self.conv1(x)\t\t\t\t# (B, 1, 28, 28) -> (B, 32, 14, 14)\n",
    "\t\tx = self.GELU(x)\n",
    "\t\tx = self.adain1(x, label_embed)\n",
    "\t\tx = self.dropout(x)\n",
    "\t\tx = self.conv2(x)\t\t\t\t# (B, 32, 14, 14) -> (B, 64, 7, 7)\n",
    "\t\tx = self.GELU(x)\n",
    "\t\tx = self.adain2(x, label_embed)\n",
    "\t\tx = self.dropout(x)\n",
    "\t\tx = self.flatten(x)\t\t\t\t# (B, 64, 7, 7) -> (B, 64*7*7)\n",
    "\t\treturn x\n",
    "\n",
    "\tdef forward(self, x, label):\n",
    "\t\tx = self.extract_features(x, label)\n",
    "\t\tx = self.fc(x)\n",
    "\t\treturn x\n",
    "\n",
    "discriminator = ConditionalDiscriminator(in_channels=1, label_embed_dim=32, dropout=0.1).to(device)\n",
    "sum(p.numel() for p in discriminator.parameters() if p.requires_grad)"
   ]
  },
  {
   "cell_type": "code",
   "execution_count": 5,
   "metadata": {},
   "outputs": [],
   "source": [
    "def vae_reconstruction_loss(x_recon, x):\n",
    "    \"\"\"Calcul la différence entre l'image originale et l'image reconstruite.\"\"\"\n",
    "    return F.binary_cross_entropy(x_recon, x, reduction='mean')\n",
    "\n",
    "def vae_kl_divergence(mu, logvar):\n",
    "    \"\"\"Calcul la divergence KL entre la distribution latente et une normale.\"\"\"\n",
    "    return 0.5 * torch.mean(mu**2 + torch.exp(logvar) - logvar - 1)\n",
    "\n",
    "def feature_matching_loss(discriminator, real_imgs, fake_imgs, labels):\n",
    "    \"\"\"Calcul la perte de feature matching.\"\"\"\n",
    "    real_features = discriminator.extract_features(real_imgs, labels)\n",
    "    fake_features = discriminator.extract_features(fake_imgs, labels)\n",
    "    return F.mse_loss(real_features, fake_features)\n",
    "\n",
    "bce_loss = nn.BCEWithLogitsLoss()\t# perte du discriminateur"
   ]
  },
  {
   "cell_type": "code",
   "execution_count": 6,
   "metadata": {},
   "outputs": [],
   "source": [
    "optimizer_G = torch.optim.AdamW(generator.parameters(), lr=1e-4, weight_decay=1e-4)\n",
    "optimizer_D = torch.optim.AdamW(discriminator.parameters(), lr=5e-5, weight_decay=1e-4)"
   ]
  },
  {
   "cell_type": "code",
   "execution_count": 7,
   "metadata": {},
   "outputs": [
    {
     "data": {
      "application/vnd.jupyter.widget-view+json": {
       "model_id": "b946cc10ffc845dd87b01b8f144d765c",
       "version_major": 2,
       "version_minor": 0
      },
      "text/plain": [
       "Epoch 1/20:   0%|          | 0/469 [00:00<?, ?it/s]"
      ]
     },
     "metadata": {},
     "output_type": "display_data"
    },
    {
     "name": "stderr",
     "output_type": "stream",
     "text": [
      "/home/x00/anaconda3/envs/start/lib/python3.12/site-packages/torch/nn/modules/linear.py:125: UserWarning: Attempting to use hipBLASLt on an unsupported architecture! Overriding blas backend to hipblas (Triggered internally at ../aten/src/ATen/Context.cpp:296.)\n",
      "  return F.linear(input, self.weight, self.bias)\n"
     ]
    },
    {
     "name": "stdout",
     "output_type": "stream",
     "text": [
      "Epoch 1/20, Reconstruction Loss: 0.4183, KL Loss: 0.0007, Feat Loss: 0.0952, Adv Loss: 0.0335, \n"
     ]
    },
    {
     "data": {
      "application/vnd.jupyter.widget-view+json": {
       "model_id": "fa442e22cfb642eabf3cbcb33e5fbee0",
       "version_major": 2,
       "version_minor": 0
      },
      "text/plain": [
       "Epoch 2/20:   0%|          | 0/469 [00:00<?, ?it/s]"
      ]
     },
     "metadata": {},
     "output_type": "display_data"
    },
    {
     "name": "stdout",
     "output_type": "stream",
     "text": [
      "Epoch 2/20, Reconstruction Loss: 0.2828, KL Loss: 0.0071, Feat Loss: 0.1340, Adv Loss: 0.0592, \n"
     ]
    },
    {
     "data": {
      "application/vnd.jupyter.widget-view+json": {
       "model_id": "dbca9fdf5a564b41b5f0813ac108e333",
       "version_major": 2,
       "version_minor": 0
      },
      "text/plain": [
       "Epoch 3/20:   0%|          | 0/469 [00:00<?, ?it/s]"
      ]
     },
     "metadata": {},
     "output_type": "display_data"
    },
    {
     "name": "stdout",
     "output_type": "stream",
     "text": [
      "Epoch 3/20, Reconstruction Loss: 0.2879, KL Loss: 0.0247, Feat Loss: 0.1592, Adv Loss: 0.0647, \n"
     ]
    },
    {
     "data": {
      "application/vnd.jupyter.widget-view+json": {
       "model_id": "01c5420f99604d24a752de7404cdb07f",
       "version_major": 2,
       "version_minor": 0
      },
      "text/plain": [
       "Epoch 4/20:   0%|          | 0/469 [00:00<?, ?it/s]"
      ]
     },
     "metadata": {},
     "output_type": "display_data"
    },
    {
     "name": "stdout",
     "output_type": "stream",
     "text": [
      "Epoch 4/20, Reconstruction Loss: 0.2869, KL Loss: 0.0403, Feat Loss: 0.1756, Adv Loss: 0.0690, \n"
     ]
    },
    {
     "data": {
      "application/vnd.jupyter.widget-view+json": {
       "model_id": "a3e77f2b2bc6439abe4362fa0c6cb96f",
       "version_major": 2,
       "version_minor": 0
      },
      "text/plain": [
       "Epoch 5/20:   0%|          | 0/469 [00:00<?, ?it/s]"
      ]
     },
     "metadata": {},
     "output_type": "display_data"
    },
    {
     "name": "stdout",
     "output_type": "stream",
     "text": [
      "Epoch 5/20, Reconstruction Loss: 0.2865, KL Loss: 0.0506, Feat Loss: 0.1880, Adv Loss: 0.0720, \n"
     ]
    },
    {
     "data": {
      "application/vnd.jupyter.widget-view+json": {
       "model_id": "9d8d07ab27994585b9f19e8a5cc6e058",
       "version_major": 2,
       "version_minor": 0
      },
      "text/plain": [
       "Epoch 6/20:   0%|          | 0/469 [00:00<?, ?it/s]"
      ]
     },
     "metadata": {},
     "output_type": "display_data"
    },
    {
     "name": "stdout",
     "output_type": "stream",
     "text": [
      "Epoch 6/20, Reconstruction Loss: 0.2848, KL Loss: 0.0612, Feat Loss: 0.1986, Adv Loss: 0.0748, \n"
     ]
    },
    {
     "data": {
      "application/vnd.jupyter.widget-view+json": {
       "model_id": "fda6e58abe464e28a96f3ee22d749c58",
       "version_major": 2,
       "version_minor": 0
      },
      "text/plain": [
       "Epoch 7/20:   0%|          | 0/469 [00:00<?, ?it/s]"
      ]
     },
     "metadata": {},
     "output_type": "display_data"
    },
    {
     "name": "stdout",
     "output_type": "stream",
     "text": [
      "Epoch 7/20, Reconstruction Loss: 0.2837, KL Loss: 0.0723, Feat Loss: 0.2081, Adv Loss: 0.0739, \n"
     ]
    },
    {
     "data": {
      "application/vnd.jupyter.widget-view+json": {
       "model_id": "0f04e2e1d1194093848f2f727ad5a9e5",
       "version_major": 2,
       "version_minor": 0
      },
      "text/plain": [
       "Epoch 8/20:   0%|          | 0/469 [00:00<?, ?it/s]"
      ]
     },
     "metadata": {},
     "output_type": "display_data"
    },
    {
     "name": "stdout",
     "output_type": "stream",
     "text": [
      "Epoch 8/20, Reconstruction Loss: 0.2795, KL Loss: 0.0839, Feat Loss: 0.2135, Adv Loss: 0.0729, \n"
     ]
    },
    {
     "data": {
      "application/vnd.jupyter.widget-view+json": {
       "model_id": "9c8c82ebe8b944619a99d736ea30dd58",
       "version_major": 2,
       "version_minor": 0
      },
      "text/plain": [
       "Epoch 9/20:   0%|          | 0/469 [00:00<?, ?it/s]"
      ]
     },
     "metadata": {},
     "output_type": "display_data"
    },
    {
     "name": "stdout",
     "output_type": "stream",
     "text": [
      "Epoch 9/20, Reconstruction Loss: 0.2764, KL Loss: 0.0934, Feat Loss: 0.2188, Adv Loss: 0.0708, \n"
     ]
    },
    {
     "data": {
      "application/vnd.jupyter.widget-view+json": {
       "model_id": "5611e5e16211419983e1b7e8b85de6c4",
       "version_major": 2,
       "version_minor": 0
      },
      "text/plain": [
       "Epoch 10/20:   0%|          | 0/469 [00:00<?, ?it/s]"
      ]
     },
     "metadata": {},
     "output_type": "display_data"
    },
    {
     "name": "stdout",
     "output_type": "stream",
     "text": [
      "Epoch 10/20, Reconstruction Loss: 0.2729, KL Loss: 0.1014, Feat Loss: 0.2219, Adv Loss: 0.0688, \n"
     ]
    },
    {
     "data": {
      "application/vnd.jupyter.widget-view+json": {
       "model_id": "8949bb4067124e2d8c4566ba4659d427",
       "version_major": 2,
       "version_minor": 0
      },
      "text/plain": [
       "Epoch 11/20:   0%|          | 0/469 [00:00<?, ?it/s]"
      ]
     },
     "metadata": {},
     "output_type": "display_data"
    },
    {
     "name": "stdout",
     "output_type": "stream",
     "text": [
      "Epoch 11/20, Reconstruction Loss: 0.2706, KL Loss: 0.1080, Feat Loss: 0.2244, Adv Loss: 0.0670, \n"
     ]
    },
    {
     "data": {
      "application/vnd.jupyter.widget-view+json": {
       "model_id": "264d5fe6b5394fa594dc306abd80058f",
       "version_major": 2,
       "version_minor": 0
      },
      "text/plain": [
       "Epoch 12/20:   0%|          | 0/469 [00:00<?, ?it/s]"
      ]
     },
     "metadata": {},
     "output_type": "display_data"
    },
    {
     "name": "stdout",
     "output_type": "stream",
     "text": [
      "Epoch 12/20, Reconstruction Loss: 0.2678, KL Loss: 0.1133, Feat Loss: 0.2257, Adv Loss: 0.0652, \n"
     ]
    },
    {
     "data": {
      "application/vnd.jupyter.widget-view+json": {
       "model_id": "3e8945066411482c81c87d4ef434f7c8",
       "version_major": 2,
       "version_minor": 0
      },
      "text/plain": [
       "Epoch 13/20:   0%|          | 0/469 [00:00<?, ?it/s]"
      ]
     },
     "metadata": {},
     "output_type": "display_data"
    },
    {
     "name": "stdout",
     "output_type": "stream",
     "text": [
      "Epoch 13/20, Reconstruction Loss: 0.2650, KL Loss: 0.1181, Feat Loss: 0.2272, Adv Loss: 0.0640, \n"
     ]
    },
    {
     "data": {
      "application/vnd.jupyter.widget-view+json": {
       "model_id": "a4af85546e5f4760b59c777439a01485",
       "version_major": 2,
       "version_minor": 0
      },
      "text/plain": [
       "Epoch 14/20:   0%|          | 0/469 [00:00<?, ?it/s]"
      ]
     },
     "metadata": {},
     "output_type": "display_data"
    },
    {
     "name": "stdout",
     "output_type": "stream",
     "text": [
      "Epoch 14/20, Reconstruction Loss: 0.2628, KL Loss: 0.1214, Feat Loss: 0.2278, Adv Loss: 0.0626, \n"
     ]
    },
    {
     "data": {
      "application/vnd.jupyter.widget-view+json": {
       "model_id": "6e949965232c49ac8faf249fdc83a368",
       "version_major": 2,
       "version_minor": 0
      },
      "text/plain": [
       "Epoch 15/20:   0%|          | 0/469 [00:00<?, ?it/s]"
      ]
     },
     "metadata": {},
     "output_type": "display_data"
    },
    {
     "name": "stdout",
     "output_type": "stream",
     "text": [
      "Epoch 15/20, Reconstruction Loss: 0.2598, KL Loss: 0.1247, Feat Loss: 0.2277, Adv Loss: 0.0616, \n"
     ]
    },
    {
     "data": {
      "application/vnd.jupyter.widget-view+json": {
       "model_id": "9fd1065f01fb4d84ae764cb9ed906849",
       "version_major": 2,
       "version_minor": 0
      },
      "text/plain": [
       "Epoch 16/20:   0%|          | 0/469 [00:00<?, ?it/s]"
      ]
     },
     "metadata": {},
     "output_type": "display_data"
    },
    {
     "name": "stdout",
     "output_type": "stream",
     "text": [
      "Epoch 16/20, Reconstruction Loss: 0.2580, KL Loss: 0.1272, Feat Loss: 0.2286, Adv Loss: 0.0610, \n"
     ]
    },
    {
     "data": {
      "application/vnd.jupyter.widget-view+json": {
       "model_id": "f60198d3e6ee476a83211759a965cdcd",
       "version_major": 2,
       "version_minor": 0
      },
      "text/plain": [
       "Epoch 17/20:   0%|          | 0/469 [00:00<?, ?it/s]"
      ]
     },
     "metadata": {},
     "output_type": "display_data"
    },
    {
     "name": "stdout",
     "output_type": "stream",
     "text": [
      "Epoch 17/20, Reconstruction Loss: 0.2558, KL Loss: 0.1291, Feat Loss: 0.2286, Adv Loss: 0.0605, \n"
     ]
    },
    {
     "data": {
      "application/vnd.jupyter.widget-view+json": {
       "model_id": "40287bf7c9a948769fd80739ba160dbe",
       "version_major": 2,
       "version_minor": 0
      },
      "text/plain": [
       "Epoch 18/20:   0%|          | 0/469 [00:00<?, ?it/s]"
      ]
     },
     "metadata": {},
     "output_type": "display_data"
    },
    {
     "name": "stdout",
     "output_type": "stream",
     "text": [
      "Epoch 18/20, Reconstruction Loss: 0.2537, KL Loss: 0.1306, Feat Loss: 0.2292, Adv Loss: 0.0599, \n"
     ]
    },
    {
     "data": {
      "application/vnd.jupyter.widget-view+json": {
       "model_id": "a53dcebcd20e4159a152dfefe12eca3d",
       "version_major": 2,
       "version_minor": 0
      },
      "text/plain": [
       "Epoch 19/20:   0%|          | 0/469 [00:00<?, ?it/s]"
      ]
     },
     "metadata": {},
     "output_type": "display_data"
    },
    {
     "name": "stdout",
     "output_type": "stream",
     "text": [
      "Epoch 19/20, Reconstruction Loss: 0.2524, KL Loss: 0.1327, Feat Loss: 0.2297, Adv Loss: 0.0593, \n"
     ]
    },
    {
     "data": {
      "application/vnd.jupyter.widget-view+json": {
       "model_id": "5a0b8de779fe4abfbc48aeef96953523",
       "version_major": 2,
       "version_minor": 0
      },
      "text/plain": [
       "Epoch 20/20:   0%|          | 0/469 [00:00<?, ?it/s]"
      ]
     },
     "metadata": {},
     "output_type": "display_data"
    },
    {
     "name": "stdout",
     "output_type": "stream",
     "text": [
      "Epoch 20/20, Reconstruction Loss: 0.2506, KL Loss: 0.1340, Feat Loss: 0.2302, Adv Loss: 0.0588, \n"
     ]
    }
   ],
   "source": [
    "num_epochs = 20\n",
    "\n",
    "recon_lambda = 1.0\n",
    "kl_lambda = 1.0\n",
    "feat_lambda = 0.25\n",
    "adv_lambda = 0.025\n",
    "\n",
    "label_smoothing = 0.1\n",
    "\n",
    "for epoch in range(num_epochs):\n",
    "\tloss_recon = 0.0\n",
    "\tloss_kl = 0.0\n",
    "\tloss_feat = 0.0\n",
    "\tloss_adv = 0.0\n",
    "\n",
    "\tfor images, labels in tqdm(train_loader, desc=f\"Epoch {epoch+1}/{num_epochs}\"):\n",
    "\t\timages = images.to(device)\n",
    "\t\tlabels = labels.to(device)\n",
    "\n",
    "\t\t# Entraîner le générateur\n",
    "\t\tgenerator.train()\n",
    "\t\tdiscriminator.eval()\n",
    "\n",
    "\t\toptimizer_G.zero_grad()\n",
    "\n",
    "\t\tfor p in discriminator.parameters():\n",
    "\t\t\tp.requires_grad = False\n",
    "\n",
    "\t\t# 1) Reconstruction de l'image\n",
    "\t\timages_pred, mu, logvar = generator(images, labels)\n",
    "\t\trecon_loss = vae_reconstruction_loss(images_pred, images)\n",
    "\n",
    "\t\t# 2) Divergence KL\n",
    "\t\tkl_loss = vae_kl_divergence(mu, logvar)\n",
    "\n",
    "\t\t# 3) Perte de feature matching\n",
    "\t\tfeat_loss = feature_matching_loss(discriminator, images, images_pred, labels)\n",
    "\n",
    "\t\t# 4) Adversarial loss\n",
    "\t\tdisc_preds = discriminator(images_pred, labels)\n",
    "\t\tadv_loss = bce_loss(disc_preds, torch.ones_like(disc_preds))\n",
    "\n",
    "\t\t# Perte totale\n",
    "\t\tloss = (\n",
    "\t\t\trecon_lambda * recon_loss +\n",
    "\t\t\tkl_lambda * kl_loss +\n",
    "\t\t\tfeat_lambda * feat_loss +\n",
    "\t\t\tadv_lambda * adv_loss\n",
    "\t\t)\n",
    "\t\tloss.backward()\n",
    "\t\tnn.utils.clip_grad_norm_(generator.parameters(), 1.0)\n",
    "\t\toptimizer_G.step()\n",
    "\n",
    "\t\t# Entraîner le discriminateur\n",
    "\t\tgenerator.eval()\n",
    "\t\tdiscriminator.train()\n",
    "\n",
    "\t\toptimizer_D.zero_grad()\n",
    "\n",
    "\t\tfor p in discriminator.parameters():\n",
    "\t\t\tp.requires_grad = True\n",
    "\n",
    "\t\t# 1) prédiction du discriminateur\n",
    "\t\treal_preds = discriminator(images, labels)\n",
    "\t\tfake_preds = discriminator(images_pred.detach(), labels)\n",
    "\n",
    "\t\t# 2) Perte totale\n",
    "\t\ttrue_labels = torch.cat([(1 - label_smoothing) * torch.ones_like(real_preds), torch.zeros_like(fake_preds)])\n",
    "\t\tpreds = torch.cat([real_preds, fake_preds])\n",
    "\t\tloss = bce_loss(preds, true_labels)\n",
    "\n",
    "\t\tloss.backward()\n",
    "\t\tnn.utils.clip_grad_norm_(discriminator.parameters(), 1.0)\n",
    "\t\toptimizer_D.step()\n",
    "\n",
    "\t\t# Calculer les métriques\n",
    "\t\tloss_recon += recon_loss.item()\n",
    "\t\tloss_kl += kl_loss.item()\n",
    "\t\tloss_feat += feat_loss.item()\n",
    "\t\tloss_adv += adv_loss.item()\n",
    "\n",
    "\tloss_recon /= len(train_loader)\n",
    "\tloss_kl /= len(train_loader)\n",
    "\tloss_feat /= len(train_loader)\n",
    "\tloss_adv /= len(train_loader)\n",
    "\n",
    "\tprint(f\"Epoch {epoch+1}/{num_epochs}, \"\n",
    "\t\t  f\"Reconstruction Loss: {(recon_lambda * loss_recon):.4f}, \"\n",
    "\t\t  f\"KL Loss: {(kl_lambda * loss_kl):.4f}, \"\n",
    "\t\t  f\"Feat Loss: {(feat_lambda * loss_feat):.4f}, \"\n",
    "\t\t  f\"Adv Loss: {(adv_lambda * loss_adv):.4f}, \")"
   ]
  },
  {
   "cell_type": "code",
   "execution_count": 8,
   "metadata": {},
   "outputs": [
    {
     "data": {
      "image/png": "[encoded data removed]",
      "text/plain": [
       "<Figure size 2000x2000 with 100 Axes>"
      ]
     },
     "metadata": {},
     "output_type": "display_data"
    }
   ],
   "source": [
    "# Générer des images\n",
    "generator.eval()\n",
    "\n",
    "num_classes = 10\n",
    "num_images_per_class = 10\n",
    "labels = torch.arange(num_classes).repeat_interleave(num_images_per_class).to(device)\n",
    "z = torch.randn(num_classes * num_images_per_class, generator.latent_dim).to(device)\n",
    "images = generator.decode(z, labels)\n",
    "images = images.view(-1, 28, 28).detach().cpu().numpy()\n",
    "\n",
    "fig, axes = plt.subplots(num_classes, num_images_per_class, figsize=(20, 20))\n",
    "for i in range(num_classes):\n",
    "\tfor j in range(num_images_per_class):\n",
    "\t\tax = axes[i, j]\n",
    "\t\tax.imshow(images[i * num_images_per_class + j], cmap='gray')\n",
    "\t\tax.axis('off')\n",
    "\n",
    "plt.show()"
   ]
  }
 ],
 "metadata": {
  "kernelspec": {
   "display_name": "start",
   "language": "python",
   "name": "python3"
  },
  "language_info": {
   "codemirror_mode": {
    "name": "ipython",
    "version": 3
   },
   "file_extension": ".py",
   "mimetype": "text/x-python",
   "name": "python",
   "nbconvert_exporter": "python",
   "pygments_lexer": "ipython3",
   "version": "3.12.1"
  }
 },
 "nbformat": 4,
 "nbformat_minor": 2
}
